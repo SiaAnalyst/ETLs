{
 "cells": [
  {
   "cell_type": "code",
   "execution_count": null,
   "id": "b5dcce92",
   "metadata": {},
   "outputs": [],
   "source": [
    "# Required Libraries\n",
    "import re\n",
    "import pandas as pd\n",
    "import numpy as np"
   ]
  },
  {
   "cell_type": "code",
   "execution_count": null,
   "id": "9ad78a89",
   "metadata": {},
   "outputs": [],
   "source": [
    "# Files to extract\n",
    "datafilepath = 'test.csv'"
   ]
  },
  {
   "cell_type": "code",
   "execution_count": null,
   "id": "bfe7844d",
   "metadata": {},
   "outputs": [],
   "source": [
    "# Extraction\n",
    "df = pd.read_csv(datafilepath,dtype=str,skiprows=1,encoding=\"utf-8\")"
   ]
  },
  {
   "cell_type": "code",
   "execution_count": null,
   "id": "3b177684",
   "metadata": {},
   "outputs": [],
   "source": [
    "# Initial look at the data\n",
    "print(\"df:\")\n",
    "print(\"---\")\n",
    "print(df.head())"
   ]
  },
  {
   "cell_type": "code",
   "execution_count": null,
   "id": "8a7241f7",
   "metadata": {},
   "outputs": [],
   "source": [
    "# Initial look at the data shape (rows,columns)\n",
    "print(\"df:\", df.shape)"
   ]
  },
  {
   "cell_type": "code",
   "execution_count": null,
   "id": "ae7ccafd",
   "metadata": {},
   "outputs": [],
   "source": [
    "# Clean data"
   ]
  },
  {
   "cell_type": "code",
   "execution_count": null,
   "id": "3c19ce35",
   "metadata": {},
   "outputs": [],
   "source": [
    "# Replace white spaces between words in column headings with “_”\n",
    "# Strip spaces in column headings\n",
    "df.columns = df.columns.str.strip()\n",
    "df.columns = df.columns.str.lower()\n",
    "df.columns = df.columns.str.replace(' ','_')"
   ]
  },
  {
   "cell_type": "code",
   "execution_count": null,
   "id": "a060293b",
   "metadata": {},
   "outputs": [],
   "source": [
    "# Rename column names\n",
    "\n",
    "df = df.rename(columns={'column_1': 'test_1', \n",
    "                        'column_2': 'test_2',\n",
    "                        'column_3': 'test_3',\n",
    "                        'column_4': 'test_4', \n",
    "                        'column_5': 'test_5'\n",
    "                       })\n"
   ]
  },
  {
   "cell_type": "code",
   "execution_count": null,
   "id": "279b2529",
   "metadata": {},
   "outputs": [],
   "source": [
    "# Add missing columns\n",
    "df[['test_6','test_7']] = df['test_1'].str.split('-',n=1,expand=True)\n",
    "df[['test_8','test_9']] = df['test_2'].str.split('-',n=1,expand=True)\n",
    "df[['test_10','test_11']] = df['test_3'].str.split('-',n=1,expand=True)"
   ]
  },
  {
   "cell_type": "code",
   "execution_count": null,
   "id": "e8ac6950",
   "metadata": {},
   "outputs": [],
   "source": [
    "# Drop column test_1, test_2, test_3\n",
    "df=df.drop(['test_1','test_2','test_3'], axis = 1)"
   ]
  },
  {
   "cell_type": "code",
   "execution_count": null,
   "id": "335888d3",
   "metadata": {},
   "outputs": [],
   "source": [
    "# Check data columns\n",
    "print(\"df:\", list(df.columns))"
   ]
  },
  {
   "cell_type": "code",
   "execution_count": null,
   "id": "7ae6a481",
   "metadata": {},
   "outputs": [],
   "source": [
    "# Remove any row that doesn’t have test_1 string\n",
    "df.dropna(subset = ['test_1'], inplace=True)"
   ]
  },
  {
   "cell_type": "code",
   "execution_count": null,
   "id": "a4c9703d",
   "metadata": {},
   "outputs": [],
   "source": [
    "# put columns in the next order\n",
    "df=df[['test_6',\n",
    "       'test_7',\n",
    "       'test_8',\n",
    "       'test_9',\n",
    "       'test_10',\n",
    "       'test_11',\n",
    "       'test_4',\n",
    "       'test_5'\n",
    "      ]]"
   ]
  },
  {
   "cell_type": "code",
   "execution_count": null,
   "id": "bb49cf66",
   "metadata": {},
   "outputs": [],
   "source": [
    "# Replace symbols in numeric columns\n",
    "df.iloc[:,-2:].replace(',', '',regex=True,inplace=True)\n",
    "# Change type of numeric columns from object to float64\n",
    "for col in df.iloc[:,-2:].columns:\n",
    "    df[col] = df[col].astype('float64')"
   ]
  },
  {
   "cell_type": "code",
   "execution_count": null,
   "id": "b663f6ff",
   "metadata": {},
   "outputs": [],
   "source": [
    "# If empty cells are found in data number columns add a zero value\n",
    "for col in df.select_dtypes(include=['float64']).columns:\n",
    "    df[col] = df[col].fillna(0)"
   ]
  },
  {
   "cell_type": "code",
   "execution_count": null,
   "id": "24b325c0",
   "metadata": {},
   "outputs": [],
   "source": [
    "# If empty cells are found in any object columns add \"N/A\"\n",
    "for col in df.select_dtypes(include=['object']).columns:\n",
    "    df[col] = df[col].fillna(\"N/A\")"
   ]
  },
  {
   "cell_type": "code",
   "execution_count": null,
   "id": "d50f9780",
   "metadata": {},
   "outputs": [],
   "source": [
    "# If a dash is found in data number columns, change the dash to zero value\n",
    "for col in df.select_dtypes(include=['float64']).columns:\n",
    "    df.loc[df[col] == \"-\", col] = 0"
   ]
  },
  {
   "cell_type": "code",
   "execution_count": null,
   "id": "6c898c5c",
   "metadata": {},
   "outputs": [],
   "source": [
    "# If a dash is found in any other string columns, add “N/A”\n",
    "for col in df.select_dtypes(include=['object']).columns:\n",
    "    df.loc[df[col] == \"-\", col] = \"N/A\""
   ]
  },
  {
   "cell_type": "code",
   "execution_count": null,
   "id": "3448d29a",
   "metadata": {},
   "outputs": [],
   "source": [
    "# If cells contain “NA” change to “N/A”\n",
    "for col in df.select_dtypes(include=['object']).columns:\n",
    "    df.loc[df[col] == \"NA\", col] = \"N/A\""
   ]
  },
  {
   "cell_type": "code",
   "execution_count": null,
   "id": "2bab319a",
   "metadata": {},
   "outputs": [],
   "source": [
    "# Add a new column “test_12“\n",
    "df.insert(loc=1, column='test_12', value=pd.read_csv(datafilepath).columns[0])"
   ]
  },
  {
   "cell_type": "code",
   "execution_count": null,
   "id": "78038a63",
   "metadata": {},
   "outputs": [],
   "source": [
    "# The test_6 column should always contain 3 digits. If we have test_6 “1”, please add zeros in the beginning so it looks like “001”\n",
    "# The test_8 column should contain 3 digits. If we have test_8 “10”, please add a zero in the beginning so it looks like “010”\n",
    "# The test_10 column should contain 6 digits. If we have test_10 “10”, please add a zero in the beginning so it looks like “000010”\n",
    "\n",
    "col = ['test_6','test_8']\n",
    "for i in col:\n",
    "    df[i] = df[i].apply(lambda x: x.zfill(3))\n",
    "df['test_10'] = df['test_10'].apply(lambda x: x.zfill(6))"
   ]
  },
  {
   "cell_type": "code",
   "execution_count": null,
   "id": "f516acc6",
   "metadata": {},
   "outputs": [],
   "source": [
    "# Checking for any missing values in dataset\n",
    "print(df.isnull().sum())"
   ]
  },
  {
   "cell_type": "code",
   "execution_count": null,
   "id": "1ed302a6",
   "metadata": {},
   "outputs": [],
   "source": [
    "# Loading\n",
    "# Saving the transformed data as a csv file\n",
    "df.to_csv('./Data_Result.csv', index = False)"
   ]
  },
  {
   "cell_type": "code",
   "execution_count": null,
   "id": "43108c9e",
   "metadata": {},
   "outputs": [],
   "source": [
    "#Validation"
   ]
  },
  {
   "cell_type": "code",
   "execution_count": null,
   "id": "143af310",
   "metadata": {},
   "outputs": [],
   "source": [
    "print(df.shape)"
   ]
  },
  {
   "cell_type": "code",
   "execution_count": null,
   "id": "99cfb3c9",
   "metadata": {},
   "outputs": [],
   "source": [
    "print(df.test_4.sum())"
   ]
  },
  {
   "cell_type": "code",
   "execution_count": null,
   "id": "6ed8497a",
   "metadata": {},
   "outputs": [],
   "source": [
    "print(df.test_5.sum())"
   ]
  }
 ],
 "metadata": {
  "kernelspec": {
   "display_name": "Python 3 (ipykernel)",
   "language": "python",
   "name": "python3"
  },
  "language_info": {
   "codemirror_mode": {
    "name": "ipython",
    "version": 3
   },
   "file_extension": ".py",
   "mimetype": "text/x-python",
   "name": "python",
   "nbconvert_exporter": "python",
   "pygments_lexer": "ipython3",
   "version": "3.9.7"
  }
 },
 "nbformat": 4,
 "nbformat_minor": 5
}
